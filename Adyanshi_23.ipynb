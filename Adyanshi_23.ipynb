{
  "nbformat": 4,
  "nbformat_minor": 0,
  "metadata": {
    "colab": {
      "provenance": []
    },
    "kernelspec": {
      "name": "python3",
      "display_name": "Python 3"
    },
    "language_info": {
      "name": "python"
    }
  },
  "cells": [
    {
      "cell_type": "markdown",
      "source": [
        " 8-Puzzle Solver"
      ],
      "metadata": {
        "id": "m8-RuBZChfva"
      }
    },
    {
      "cell_type": "code",
      "execution_count": 2,
      "metadata": {
        "colab": {
          "base_uri": "https://localhost:8080/"
        },
        "id": "6pd6tzise4cE",
        "outputId": "9bdc5fef-31d0-43ed-a426-27bd660d05ea"
      },
      "outputs": [
        {
          "output_type": "stream",
          "name": "stdout",
          "text": [
            "[((1, 2, 3), (4, 5, 0), (6, 7, 8)), ((1, 2, 3), (4, 5, 8), (6, 7, 0)), ((1, 2, 3), (4, 5, 8), (6, 0, 7)), ((1, 2, 3), (4, 5, 8), (0, 6, 7)), ((1, 2, 3), (0, 5, 8), (4, 6, 7)), ((1, 2, 3), (5, 0, 8), (4, 6, 7)), ((1, 2, 3), (5, 6, 8), (4, 0, 7)), ((1, 2, 3), (5, 6, 8), (4, 7, 0)), ((1, 2, 3), (5, 6, 0), (4, 7, 8)), ((1, 2, 3), (5, 0, 6), (4, 7, 8)), ((1, 2, 3), (0, 5, 6), (4, 7, 8)), ((1, 2, 3), (4, 5, 6), (0, 7, 8)), ((1, 2, 3), (4, 5, 6), (7, 0, 8)), ((1, 2, 3), (4, 5, 6), (7, 8, 0))]\n"
          ]
        }
      ],
      "source": [
        "import heapq  # Importing heapq for priority queue implementation\n",
        "import itertools  # Importing itertools for maintaining unique node count\n",
        "\n",
        "def manhattan_distance(state, goal):\n",
        "    \"\"\"Calculate the Manhattan distance heuristic for the given state.\"\"\"\n",
        "    distance = 0\n",
        "    for i in range(3):  # Iterate through each row\n",
        "        for j in range(3):  # Iterate through each column\n",
        "            if state[i][j] != 0:  # Ignore empty tile (0)\n",
        "                x, y = divmod(goal[state[i][j]], 3)  # Get target position of the tile\n",
        "                distance += abs(x - i) + abs(y - j)  # Calculate Manhattan distance\n",
        "    return distance\n",
        "\n",
        "def get_neighbors(state):\n",
        "    \"\"\"Generate all possible states by moving the empty tile in four directions.\"\"\"\n",
        "    neighbors = []\n",
        "    x, y = next((i, j) for i in range(3) for j in range(3) if state[i][j] == 0)  # Find empty tile position\n",
        "    moves = [(-1, 0), (1, 0), (0, -1), (0, 1)]  # Possible moves (Up, Down, Left, Right)\n",
        "\n",
        "    for dx, dy in moves:\n",
        "        nx, ny = x + dx, y + dy  # Calculate new position of empty tile\n",
        "        if 0 <= nx < 3 and 0 <= ny < 3:  # Ensure move is within bounds\n",
        "            new_state = [list(row) for row in state]  # Create a copy of current state\n",
        "            new_state[x][y], new_state[nx][ny] = new_state[nx][ny], new_state[x][y]  # Swap tiles\n",
        "            neighbors.append(tuple(tuple(row) for row in new_state))  # Store new state as tuple\n",
        "    return neighbors\n",
        "\n",
        "def solve_puzzle(start):\n",
        "    \"\"\"Solve the 8-puzzle problem using the A* search algorithm.\"\"\"\n",
        "    goal = {1: 0, 2: 1, 3: 2, 4: 3, 5: 4, 6: 5, 7: 6, 8: 7, 0: 8}  # Goal state mapping\n",
        "    pq = [(manhattan_distance(start, goal), 0, start, [])]  # Priority queue with (cost, depth, state, path)\n",
        "    visited = set()  # Set to track visited states\n",
        "    counter = itertools.count()  # Unique counter to break tie in priority queue\n",
        "\n",
        "    while pq:\n",
        "        _, cost, state, path = heapq.heappop(pq)  # Get state with lowest cost\n",
        "        if state in visited:  # Skip if already visited\n",
        "            continue\n",
        "        visited.add(state)  # Mark state as visited\n",
        "\n",
        "        # Check if the goal state is reached\n",
        "        if state == tuple(tuple(row) for row in [[1, 2, 3], [4, 5, 6], [7, 8, 0]]):\n",
        "            return path  # Return solution path\n",
        "\n",
        "        # Generate next possible states and add them to priority queue\n",
        "        for neighbor in get_neighbors(state):\n",
        "            heapq.heappush(pq, (cost + manhattan_distance(neighbor, goal), cost + 1, neighbor, path + [neighbor]))\n",
        "\n",
        "    return None  # Return None if no solution is found\n",
        "\n",
        "# Define initial puzzle state\n",
        "start_state = ((1, 2, 3), (4, 0, 5), (6, 7, 8))\n",
        "\n",
        "# Solve the puzzle and print the solution path\n",
        "solution = solve_puzzle(start_state)\n",
        "print(solution if solution else \"No solution found\")\n"
      ]
    }
  ]
}